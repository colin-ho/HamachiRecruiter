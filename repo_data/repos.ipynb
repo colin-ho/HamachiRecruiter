{
 "cells": [
  {
   "cell_type": "code",
   "execution_count": null,
   "metadata": {},
   "outputs": [
    {
     "ename": "",
     "evalue": "",
     "output_type": "error",
     "traceback": [
      "\u001b[1;31mRunning cells with 'Python 3.12.5' requires the ipykernel package.\n",
      "\u001b[1;31mRun the following command to install 'ipykernel' into the Python environment. \n",
      "\u001b[1;31mCommand: '/opt/homebrew/bin/python3 -m pip install ipykernel -U --user --force-reinstall'"
     ]
    }
   ],
   "source": [
    "from dotenv import load_dotenv\n",
    "load_dotenv()\n",
    "\n",
    "import os\n",
    "GITHUB_TOKEN = os.environ.get('GITHUB_TOKEN', '')\n",
    "if not GITHUB_TOKEN:\n",
    "    raise ValueError(\"GitHub token not found. Please set GITHUB_TOKEN in your .env file.\")\n",
    "\n",
    "from github import Github\n",
    "\n",
    "import daft\n",
    "# Authentication is defined via github.Auth\n",
    "from github import Auth\n",
    "\n",
    "# using an access token\n",
    "auth = Auth.Token(GITHUB_TOKEN)\n",
    "\n",
    "# Now, we can create a Github instance\n",
    "github = Github(auth=auth)"
   ]
  },
  {
   "cell_type": "code",
   "execution_count": 20,
   "metadata": {},
   "outputs": [],
   "source": [
    "@daft.udf(return_dtype=daft.DataType.struct({\"name\": daft.DataType.string(), \"url\": daft.DataType.string()}), batch_size=1)\n",
    "def search_for_repos(query, sort, order, limit):\n",
    "    query, sort, order, limit = query.to_pylist()[0], sort.to_pylist()[0], order.to_pylist()[0], limit.to_pylist()[0]\n",
    "    repos = github.search_repositories(query=query, sort=sort, order=order)\n",
    "    res = []\n",
    "    for repo in repos[:limit]:\n",
    "        res.append({\"name\": repo.name, \"url\": repo.clone_url})\n",
    "    return res"
   ]
  },
  {
   "cell_type": "code",
   "execution_count": 21,
   "metadata": {},
   "outputs": [
    {
     "data": {
      "text/html": [
       "<div>\n",
       "<table class=\"dataframe\">\n",
       "<thead><tr><th style=\"text-wrap: nowrap; max-width:192px; overflow:auto; text-align:left\">query<br />Utf8</th><th style=\"text-wrap: nowrap; max-width:192px; overflow:auto; text-align:left\">sort<br />Utf8</th><th style=\"text-wrap: nowrap; max-width:192px; overflow:auto; text-align:left\">order<br />Utf8</th><th style=\"text-wrap: nowrap; max-width:192px; overflow:auto; text-align:left\">limit<br />Int64</th><th style=\"text-wrap: nowrap; max-width:192px; overflow:auto; text-align:left\">repo_data<br />Struct[name: Utf8, url: Utf8]</th></tr></thead>\n",
       "<tbody>\n",
       "<tr><td><div style=\"text-align:left; max-width:192px; max-height:64px; overflow:auto\">language:rust</div></td><td><div style=\"text-align:left; max-width:192px; max-height:64px; overflow:auto\">stars</div></td><td><div style=\"text-align:left; max-width:192px; max-height:64px; overflow:auto\">desc</div></td><td><div style=\"text-align:left; max-width:192px; max-height:64px; overflow:auto\">10</div></td><td><div style=\"text-align:left; max-width:192px; max-height:64px; overflow:auto\">{name: deno,<br />url: https://github.com/denoland/deno.git,<br />}</div></td></tr>\n",
       "<tr><td><div style=\"text-align:left; max-width:192px; max-height:64px; overflow:auto\">language:rust</div></td><td><div style=\"text-align:left; max-width:192px; max-height:64px; overflow:auto\">stars</div></td><td><div style=\"text-align:left; max-width:192px; max-height:64px; overflow:auto\">desc</div></td><td><div style=\"text-align:left; max-width:192px; max-height:64px; overflow:auto\">10</div></td><td><div style=\"text-align:left; max-width:192px; max-height:64px; overflow:auto\">{name: rust,<br />url: https://github.com/rust-lang/rust.git,<br />}</div></td></tr>\n",
       "<tr><td><div style=\"text-align:left; max-width:192px; max-height:64px; overflow:auto\">language:rust</div></td><td><div style=\"text-align:left; max-width:192px; max-height:64px; overflow:auto\">stars</div></td><td><div style=\"text-align:left; max-width:192px; max-height:64px; overflow:auto\">desc</div></td><td><div style=\"text-align:left; max-width:192px; max-height:64px; overflow:auto\">10</div></td><td><div style=\"text-align:left; max-width:192px; max-height:64px; overflow:auto\">{name: tauri,<br />url: https://github.com/tauri-apps/tauri.git,<br />}</div></td></tr>\n",
       "<tr><td><div style=\"text-align:left; max-width:192px; max-height:64px; overflow:auto\">language:rust</div></td><td><div style=\"text-align:left; max-width:192px; max-height:64px; overflow:auto\">stars</div></td><td><div style=\"text-align:left; max-width:192px; max-height:64px; overflow:auto\">desc</div></td><td><div style=\"text-align:left; max-width:192px; max-height:64px; overflow:auto\">10</div></td><td><div style=\"text-align:left; max-width:192px; max-height:64px; overflow:auto\">{name: rustdesk,<br />url: https://github.com/rustdesk/rustdesk.git,<br />}</div></td></tr>\n",
       "<tr><td><div style=\"text-align:left; max-width:192px; max-height:64px; overflow:auto\">language:rust</div></td><td><div style=\"text-align:left; max-width:192px; max-height:64px; overflow:auto\">stars</div></td><td><div style=\"text-align:left; max-width:192px; max-height:64px; overflow:auto\">desc</div></td><td><div style=\"text-align:left; max-width:192px; max-height:64px; overflow:auto\">10</div></td><td><div style=\"text-align:left; max-width:192px; max-height:64px; overflow:auto\">{name: sway,<br />url: https://github.com/FuelLabs/sway.git,<br />}</div></td></tr>\n",
       "<tr><td><div style=\"text-align:left; max-width:192px; max-height:64px; overflow:auto\">language:rust</div></td><td><div style=\"text-align:left; max-width:192px; max-height:64px; overflow:auto\">stars</div></td><td><div style=\"text-align:left; max-width:192px; max-height:64px; overflow:auto\">desc</div></td><td><div style=\"text-align:left; max-width:192px; max-height:64px; overflow:auto\">10</div></td><td><div style=\"text-align:left; max-width:192px; max-height:64px; overflow:auto\">{name: alacritty,<br />url: https://github.com/alacritty/alacritty.git,<br />}</div></td></tr>\n",
       "<tr><td><div style=\"text-align:left; max-width:192px; max-height:64px; overflow:auto\">language:rust</div></td><td><div style=\"text-align:left; max-width:192px; max-height:64px; overflow:auto\">stars</div></td><td><div style=\"text-align:left; max-width:192px; max-height:64px; overflow:auto\">desc</div></td><td><div style=\"text-align:left; max-width:192px; max-height:64px; overflow:auto\">10</div></td><td><div style=\"text-align:left; max-width:192px; max-height:64px; overflow:auto\">{name: fuel-core,<br />url: https://github.com/FuelLabs/fuel-core.git,<br />}</div></td></tr>\n",
       "<tr><td><div style=\"text-align:left; max-width:192px; max-height:64px; overflow:auto\">language:rust</div></td><td><div style=\"text-align:left; max-width:192px; max-height:64px; overflow:auto\">stars</div></td><td><div style=\"text-align:left; max-width:192px; max-height:64px; overflow:auto\">desc</div></td><td><div style=\"text-align:left; max-width:192px; max-height:64px; overflow:auto\">10</div></td><td><div style=\"text-align:left; max-width:192px; max-height:64px; overflow:auto\">{name: rustlings,<br />url: https://github.com/rust-lang/rustlings.git,<br />}</div></td></tr>\n",
       "</tbody>\n",
       "</table>\n",
       "<small>(Showing first 8 rows)</small>\n",
       "</div>"
      ],
      "text/plain": [
       "╭───────────────┬───────┬───────┬───────┬───────────────────────────────╮\n",
       "│ query         ┆ sort  ┆ order ┆ limit ┆ repo_data                     │\n",
       "│ ---           ┆ ---   ┆ ---   ┆ ---   ┆ ---                           │\n",
       "│ Utf8          ┆ Utf8  ┆ Utf8  ┆ Int64 ┆ Struct[name: Utf8, url: Utf8] │\n",
       "╞═══════════════╪═══════╪═══════╪═══════╪═══════════════════════════════╡\n",
       "│ language:rust ┆ stars ┆ desc  ┆ 10    ┆ {name: deno,                  │\n",
       "│               ┆       ┆       ┆       ┆ url: https://git…             │\n",
       "├╌╌╌╌╌╌╌╌╌╌╌╌╌╌╌┼╌╌╌╌╌╌╌┼╌╌╌╌╌╌╌┼╌╌╌╌╌╌╌┼╌╌╌╌╌╌╌╌╌╌╌╌╌╌╌╌╌╌╌╌╌╌╌╌╌╌╌╌╌╌╌┤\n",
       "│ language:rust ┆ stars ┆ desc  ┆ 10    ┆ {name: rust,                  │\n",
       "│               ┆       ┆       ┆       ┆ url: https://git…             │\n",
       "├╌╌╌╌╌╌╌╌╌╌╌╌╌╌╌┼╌╌╌╌╌╌╌┼╌╌╌╌╌╌╌┼╌╌╌╌╌╌╌┼╌╌╌╌╌╌╌╌╌╌╌╌╌╌╌╌╌╌╌╌╌╌╌╌╌╌╌╌╌╌╌┤\n",
       "│ language:rust ┆ stars ┆ desc  ┆ 10    ┆ {name: tauri,                 │\n",
       "│               ┆       ┆       ┆       ┆ url: https://gi…              │\n",
       "├╌╌╌╌╌╌╌╌╌╌╌╌╌╌╌┼╌╌╌╌╌╌╌┼╌╌╌╌╌╌╌┼╌╌╌╌╌╌╌┼╌╌╌╌╌╌╌╌╌╌╌╌╌╌╌╌╌╌╌╌╌╌╌╌╌╌╌╌╌╌╌┤\n",
       "│ language:rust ┆ stars ┆ desc  ┆ 10    ┆ {name: rustdesk,              │\n",
       "│               ┆       ┆       ┆       ┆ url: https:/…                 │\n",
       "├╌╌╌╌╌╌╌╌╌╌╌╌╌╌╌┼╌╌╌╌╌╌╌┼╌╌╌╌╌╌╌┼╌╌╌╌╌╌╌┼╌╌╌╌╌╌╌╌╌╌╌╌╌╌╌╌╌╌╌╌╌╌╌╌╌╌╌╌╌╌╌┤\n",
       "│ language:rust ┆ stars ┆ desc  ┆ 10    ┆ {name: sway,                  │\n",
       "│               ┆       ┆       ┆       ┆ url: https://git…             │\n",
       "├╌╌╌╌╌╌╌╌╌╌╌╌╌╌╌┼╌╌╌╌╌╌╌┼╌╌╌╌╌╌╌┼╌╌╌╌╌╌╌┼╌╌╌╌╌╌╌╌╌╌╌╌╌╌╌╌╌╌╌╌╌╌╌╌╌╌╌╌╌╌╌┤\n",
       "│ language:rust ┆ stars ┆ desc  ┆ 10    ┆ {name: alacritty,             │\n",
       "│               ┆       ┆       ┆       ┆ url: https:…                  │\n",
       "├╌╌╌╌╌╌╌╌╌╌╌╌╌╌╌┼╌╌╌╌╌╌╌┼╌╌╌╌╌╌╌┼╌╌╌╌╌╌╌┼╌╌╌╌╌╌╌╌╌╌╌╌╌╌╌╌╌╌╌╌╌╌╌╌╌╌╌╌╌╌╌┤\n",
       "│ language:rust ┆ stars ┆ desc  ┆ 10    ┆ {name: fuel-core,             │\n",
       "│               ┆       ┆       ┆       ┆ url: https:…                  │\n",
       "├╌╌╌╌╌╌╌╌╌╌╌╌╌╌╌┼╌╌╌╌╌╌╌┼╌╌╌╌╌╌╌┼╌╌╌╌╌╌╌┼╌╌╌╌╌╌╌╌╌╌╌╌╌╌╌╌╌╌╌╌╌╌╌╌╌╌╌╌╌╌╌┤\n",
       "│ language:rust ┆ stars ┆ desc  ┆ 10    ┆ {name: rustlings,             │\n",
       "│               ┆       ┆       ┆       ┆ url: https:…                  │\n",
       "╰───────────────┴───────┴───────┴───────┴───────────────────────────────╯\n",
       "\n",
       "(Showing first 8 rows)"
      ]
     },
     "metadata": {},
     "output_type": "display_data"
    }
   ],
   "source": [
    "import daft\n",
    "\n",
    "df = daft.from_pydict({\"query\": [\"language:rust\"], \"sort\": [\"stars\"], \"order\": [\"desc\"], \"limit\": [10]})\n",
    "\n",
    "df = df.with_column(\n",
    "    \"repo_data\",\n",
    "    search_for_repos(df[\"query\"], df[\"sort\"], df[\"order\"], df[\"limit\"])\n",
    ")\n",
    "\n",
    "df.show()\n"
   ]
  }
 ],
 "metadata": {
  "kernelspec": {
   "display_name": "Python 3",
   "language": "python",
   "name": "python3"
  },
  "language_info": {
   "codemirror_mode": {
    "name": "ipython",
    "version": 3
   },
   "file_extension": ".py",
   "mimetype": "text/x-python",
   "name": "python",
   "nbconvert_exporter": "python",
   "pygments_lexer": "ipython3",
   "version": "3.12.5"
  }
 },
 "nbformat": 4,
 "nbformat_minor": 2
}
